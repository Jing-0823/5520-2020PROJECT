{
 "cells": [
  {
   "cell_type": "markdown",
   "metadata": {},
   "source": [
    "<h1 align=\"center\"> IST 5520 Project: Milestone 1 </h1>\n",
    "<h3 align=\"center\"> G5: Zach Brown, Rachel Fluegel, Xiaojing Ge, and Jing Sun </h3>"
   ]
  },
  {
   "cell_type": "markdown",
   "metadata": {},
   "source": [
    "# Introduction"
   ]
  },
  {
   "cell_type": "markdown",
   "metadata": {},
   "source": [
    "### Busness Problem/Scenario"
   ]
  },
  {
   "cell_type": "markdown",
   "metadata": {},
   "source": [
    "#### What is KickStarter?"
   ]
  },
  {
   "cell_type": "markdown",
   "metadata": {},
   "source": [
    "Here"
   ]
  },
  {
   "cell_type": "markdown",
   "metadata": {},
   "source": [
    "#### Business Scenario"
   ]
  },
  {
   "cell_type": "markdown",
   "metadata": {},
   "source": [
    "Here"
   ]
  },
  {
   "cell_type": "markdown",
   "metadata": {},
   "source": [
    "# Data Source and Collection"
   ]
  },
  {
   "cell_type": "markdown",
   "metadata": {},
   "source": [
    "### Data Source and Key Infomation"
   ]
  },
  {
   "cell_type": "markdown",
   "metadata": {},
   "source": [
    "We found our Kickstarter data from Kaggle.\n",
    "(https://www.kaggle.com/toshimelonhead/400000-kickstarter-projects#kickstarter.csv)\n",
    "\n",
    "We first decided to import pandas so we can import the csv file and be able to clean and analyze the data later on in the project. "
   ]
  },
  {
   "cell_type": "code",
   "execution_count": 1,
   "metadata": {},
   "outputs": [],
   "source": [
    "import pandas as pd"
   ]
  },
  {
   "cell_type": "markdown",
   "metadata": {},
   "source": [
    "Using panadas we can read the csv file from the location its saved."
   ]
  },
  {
   "cell_type": "code",
   "execution_count": 5,
   "metadata": {},
   "outputs": [
    {
     "name": "stdout",
     "output_type": "stream",
     "text": [
      "<class 'pandas.core.frame.DataFrame'>\n",
      "RangeIndex: 3727 entries, 0 to 3726\n",
      "Data columns (total 38 columns):\n",
      "0     3727 non-null object\n",
      "1     3727 non-null object\n",
      "2     3727 non-null object\n",
      "3     3727 non-null object\n",
      "4     3727 non-null object\n",
      "5     3727 non-null object\n",
      "6     3727 non-null object\n",
      "7     3727 non-null object\n",
      "8     3727 non-null object\n",
      "9     3727 non-null object\n",
      "10    3727 non-null object\n",
      "11    3727 non-null object\n",
      "12    3727 non-null object\n",
      "13    3727 non-null object\n",
      "14    1 non-null object\n",
      "15    3727 non-null object\n",
      "16    3727 non-null object\n",
      "17    3727 non-null object\n",
      "18    1 non-null object\n",
      "19    3727 non-null object\n",
      "20    1 non-null object\n",
      "21    3727 non-null object\n",
      "22    3720 non-null object\n",
      "23    3727 non-null object\n",
      "24    1 non-null object\n",
      "25    3727 non-null object\n",
      "26    3727 non-null object\n",
      "27    3727 non-null object\n",
      "28    3727 non-null object\n",
      "29    3727 non-null object\n",
      "30    3727 non-null object\n",
      "31    3727 non-null object\n",
      "32    3727 non-null object\n",
      "33    3727 non-null object\n",
      "34    3727 non-null object\n",
      "35    3727 non-null object\n",
      "36    3727 non-null object\n",
      "37    3724 non-null object\n",
      "dtypes: object(38)\n",
      "memory usage: 1.1+ MB\n"
     ]
    }
   ],
   "source": [
    "kickstarter = pd.read_csv(\"~/Desktop/Python/Kickstarter.csv\",\n",
    "                         header = None)\n",
    "kickstarter.info()"
   ]
  },
  {
   "cell_type": "markdown",
   "metadata": {},
   "source": [
    "The C:\\\\... is where one person in our group saved the csv file to be able to import into Python. It will be different for everyone since we all will have it saved ina different place."
   ]
  },
  {
   "cell_type": "code",
   "execution_count": null,
   "metadata": {},
   "outputs": [],
   "source": []
  },
  {
   "cell_type": "markdown",
   "metadata": {},
   "source": [
    "#### High Level Requirments"
   ]
  },
  {
   "cell_type": "markdown",
   "metadata": {},
   "source": [
    "here"
   ]
  },
  {
   "cell_type": "markdown",
   "metadata": {},
   "source": [
    "## Research Questions"
   ]
  },
  {
   "cell_type": "markdown",
   "metadata": {},
   "source": [
    "questions here"
   ]
  }
 ],
 "metadata": {
  "kernelspec": {
   "display_name": "Python 3",
   "language": "python",
   "name": "python3"
  },
  "language_info": {
   "codemirror_mode": {
    "name": "ipython",
    "version": 3
   },
   "file_extension": ".py",
   "mimetype": "text/x-python",
   "name": "python",
   "nbconvert_exporter": "python",
   "pygments_lexer": "ipython3",
   "version": "3.6.8"
  }
 },
 "nbformat": 4,
 "nbformat_minor": 4
}
